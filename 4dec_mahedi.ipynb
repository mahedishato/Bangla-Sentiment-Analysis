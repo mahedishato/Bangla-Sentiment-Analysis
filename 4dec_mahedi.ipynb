{
  "nbformat": 4,
  "nbformat_minor": 0,
  "metadata": {
    "colab": {
      "provenance": [],
      "gpuType": "T4"
    },
    "kernelspec": {
      "name": "python3",
      "display_name": "Python 3"
    },
    "language_info": {
      "name": "python"
    },
    "accelerator": "GPU"
  },
  "cells": [
    {
      "cell_type": "code",
      "execution_count": 32,
      "metadata": {
        "id": "N27HE15XjtGq"
      },
      "outputs": [],
      "source": [
        "import pandas as pd, numpy as np, plotly.express as px, seaborn as sns, re\n",
        "from sklearn.model_selection import train_test_split\n",
        "import keras"
      ]
    },
    {
      "cell_type": "code",
      "source": [
        "from keras.preprocessing.text import Tokenizer"
      ],
      "metadata": {
        "id": "G7G1mU2csYAy"
      },
      "execution_count": 33,
      "outputs": []
    },
    {
      "cell_type": "code",
      "source": [
        "def text_to_word_list(text):\n",
        "    text = text.split()\n",
        "    return text\n",
        "\n",
        "def replace_strings(text):\n",
        "    emoji_pattern = re.compile(\"[\"\n",
        "                           u\"\\U0001F600-\\U0001F64F\"  # emoticons\n",
        "                           u\"\\U0001F300-\\U0001F5FF\"  # symbols & pictographs\n",
        "                           u\"\\U0001F680-\\U0001F6FF\"  # transport & map symbols\n",
        "                           u\"\\U0001F1E0-\\U0001F1FF\"  # flags (iOS)\n",
        "                           u\"\\U00002702-\\U000027B0\"\n",
        "                           u\"\\U000024C2-\\U0001F251\"\n",
        "                           u\"\\u00C0-\\u017F\"          #latin\n",
        "                           u\"\\u2000-\\u206F\"          #generalPunctuations\n",
        "\n",
        "                           \"]+\", flags=re.UNICODE)\n",
        "    english_pattern=re.compile('[a-zA-Z0-9]+', flags=re.I)\n",
        "    #latin_pattern=re.compile('[A-Za-z\\u00C0-\\u00D6\\u00D8-\\u00f6\\u00f8-\\u00ff\\s]*',)\n",
        "\n",
        "    text=emoji_pattern.sub(r'', text)\n",
        "    text=english_pattern.sub(r'', text)\n",
        "\n",
        "    return text\n",
        "\n",
        "def remove_punctuations(my_str):\n",
        "    # define punctuation\n",
        "    punctuations = '''```\u0012\u0010\u0002\b`\u0007\b£|¢|\u0007Ñ+-*/=EROero৳০১২৩৪৫৬৭৮৯012–34567•89।!()-[]{};:'\"“\\’,<>./?@#$%^&*_~‘—॥”‰⚽️✌�￰৷￰'''\n",
        "\n",
        "    no_punct = \"\"\n",
        "    for char in my_str:\n",
        "        if char not in punctuations:\n",
        "            no_punct = no_punct + char\n",
        "\n",
        "    # display the unpunctuated string\n",
        "    return no_punct\n",
        "\n",
        "\n",
        "\n",
        "def joining(text):\n",
        "    out=' '.join(text)\n",
        "    return out\n",
        "\n",
        "def preprocessing(text):\n",
        "    out=remove_punctuations(replace_strings(text))\n",
        "    return out"
      ],
      "metadata": {
        "id": "RXg7zbuTj9XJ"
      },
      "execution_count": 34,
      "outputs": []
    },
    {
      "cell_type": "code",
      "source": [
        "df = pd.read_excel('predicted_unsupervised_sentiment.xlsx')\n",
        "display(df)"
      ],
      "metadata": {
        "colab": {
          "base_uri": "https://localhost:8080/",
          "height": 423
        },
        "id": "20I-ek7UkDl3",
        "outputId": "f3a00990-1ac1-41b2-c48e-901fcf254234"
      },
      "execution_count": 35,
      "outputs": [
        {
          "output_type": "display_data",
          "data": {
            "text/plain": [
              "      Unnamed: 0  Unnamed: 1  Unnamed: 2  \\\n",
              "0              0         NaN         NaN   \n",
              "1              1         NaN         NaN   \n",
              "2              2         NaN         NaN   \n",
              "3              3         NaN         NaN   \n",
              "4              4         NaN         NaN   \n",
              "...          ...         ...         ...   \n",
              "6647        6647         NaN         NaN   \n",
              "6648        6648         NaN         NaN   \n",
              "6649        6649         NaN         NaN   \n",
              "6650        6650         NaN         NaN   \n",
              "6651        6651         NaN         NaN   \n",
              "\n",
              "                                               sentence  sentiment  \n",
              "0                               ওয়ও আমি গর্বিত বাঙ্গালি          1  \n",
              "1     বাংলাদেশ এর কিছু মানুষ নিজে কিছু করতে পারবেনা ...          0  \n",
              "2                                    রামোসের ঘুম আসে না          0  \n",
              "3                     কোহলির প্রতি শ্রদ্ধা হারিয়ে ফেলছি          1  \n",
              "4     থ্যাঙ্ক ইউ মাছরাঙ্গা টেলিভিশনকিন্তু ছাপোষা আন্...          0  \n",
              "...                                                 ...        ...  \n",
              "6647  আমি কখনো আশা করিনি যে আমি আমার স্বপ্নের প্রিয় ...          1  \n",
              "6648  মিডিয়া লিটনকে একজন খারাপ মানুষ হিসেবে প্রতিষ্ঠ...          0  \n",
              "6649  বাংলাদেশের জন্ম কিংবা তার পূর্বের ইতিহাস অনেকে...          0  \n",
              "6650  আপনারা সিম নিবন্দন করালেন বাংলাদেশে অপরাধ কমবে...          0  \n",
              "6651  কত দিন যে মোবাইল ছুড়ে ফেলতে ইচ্ছা হয়েছে তার ...          0  \n",
              "\n",
              "[6652 rows x 5 columns]"
            ],
            "text/html": [
              "\n",
              "  <div id=\"df-14f9de12-0f48-4ca1-991c-e879e8f769a5\" class=\"colab-df-container\">\n",
              "    <div>\n",
              "<style scoped>\n",
              "    .dataframe tbody tr th:only-of-type {\n",
              "        vertical-align: middle;\n",
              "    }\n",
              "\n",
              "    .dataframe tbody tr th {\n",
              "        vertical-align: top;\n",
              "    }\n",
              "\n",
              "    .dataframe thead th {\n",
              "        text-align: right;\n",
              "    }\n",
              "</style>\n",
              "<table border=\"1\" class=\"dataframe\">\n",
              "  <thead>\n",
              "    <tr style=\"text-align: right;\">\n",
              "      <th></th>\n",
              "      <th>Unnamed: 0</th>\n",
              "      <th>Unnamed: 1</th>\n",
              "      <th>Unnamed: 2</th>\n",
              "      <th>sentence</th>\n",
              "      <th>sentiment</th>\n",
              "    </tr>\n",
              "  </thead>\n",
              "  <tbody>\n",
              "    <tr>\n",
              "      <th>0</th>\n",
              "      <td>0</td>\n",
              "      <td>NaN</td>\n",
              "      <td>NaN</td>\n",
              "      <td>ওয়ও আমি গর্বিত বাঙ্গালি</td>\n",
              "      <td>1</td>\n",
              "    </tr>\n",
              "    <tr>\n",
              "      <th>1</th>\n",
              "      <td>1</td>\n",
              "      <td>NaN</td>\n",
              "      <td>NaN</td>\n",
              "      <td>বাংলাদেশ এর কিছু মানুষ নিজে কিছু করতে পারবেনা ...</td>\n",
              "      <td>0</td>\n",
              "    </tr>\n",
              "    <tr>\n",
              "      <th>2</th>\n",
              "      <td>2</td>\n",
              "      <td>NaN</td>\n",
              "      <td>NaN</td>\n",
              "      <td>রামোসের ঘুম আসে না</td>\n",
              "      <td>0</td>\n",
              "    </tr>\n",
              "    <tr>\n",
              "      <th>3</th>\n",
              "      <td>3</td>\n",
              "      <td>NaN</td>\n",
              "      <td>NaN</td>\n",
              "      <td>কোহলির প্রতি শ্রদ্ধা হারিয়ে ফেলছি</td>\n",
              "      <td>1</td>\n",
              "    </tr>\n",
              "    <tr>\n",
              "      <th>4</th>\n",
              "      <td>4</td>\n",
              "      <td>NaN</td>\n",
              "      <td>NaN</td>\n",
              "      <td>থ্যাঙ্ক ইউ মাছরাঙ্গা টেলিভিশনকিন্তু ছাপোষা আন্...</td>\n",
              "      <td>0</td>\n",
              "    </tr>\n",
              "    <tr>\n",
              "      <th>...</th>\n",
              "      <td>...</td>\n",
              "      <td>...</td>\n",
              "      <td>...</td>\n",
              "      <td>...</td>\n",
              "      <td>...</td>\n",
              "    </tr>\n",
              "    <tr>\n",
              "      <th>6647</th>\n",
              "      <td>6647</td>\n",
              "      <td>NaN</td>\n",
              "      <td>NaN</td>\n",
              "      <td>আমি কখনো আশা করিনি যে আমি আমার স্বপ্নের প্রিয় ...</td>\n",
              "      <td>1</td>\n",
              "    </tr>\n",
              "    <tr>\n",
              "      <th>6648</th>\n",
              "      <td>6648</td>\n",
              "      <td>NaN</td>\n",
              "      <td>NaN</td>\n",
              "      <td>মিডিয়া লিটনকে একজন খারাপ মানুষ হিসেবে প্রতিষ্ঠ...</td>\n",
              "      <td>0</td>\n",
              "    </tr>\n",
              "    <tr>\n",
              "      <th>6649</th>\n",
              "      <td>6649</td>\n",
              "      <td>NaN</td>\n",
              "      <td>NaN</td>\n",
              "      <td>বাংলাদেশের জন্ম কিংবা তার পূর্বের ইতিহাস অনেকে...</td>\n",
              "      <td>0</td>\n",
              "    </tr>\n",
              "    <tr>\n",
              "      <th>6650</th>\n",
              "      <td>6650</td>\n",
              "      <td>NaN</td>\n",
              "      <td>NaN</td>\n",
              "      <td>আপনারা সিম নিবন্দন করালেন বাংলাদেশে অপরাধ কমবে...</td>\n",
              "      <td>0</td>\n",
              "    </tr>\n",
              "    <tr>\n",
              "      <th>6651</th>\n",
              "      <td>6651</td>\n",
              "      <td>NaN</td>\n",
              "      <td>NaN</td>\n",
              "      <td>কত দিন যে মোবাইল ছুড়ে ফেলতে ইচ্ছা হয়েছে তার ...</td>\n",
              "      <td>0</td>\n",
              "    </tr>\n",
              "  </tbody>\n",
              "</table>\n",
              "<p>6652 rows × 5 columns</p>\n",
              "</div>\n",
              "    <div class=\"colab-df-buttons\">\n",
              "\n",
              "  <div class=\"colab-df-container\">\n",
              "    <button class=\"colab-df-convert\" onclick=\"convertToInteractive('df-14f9de12-0f48-4ca1-991c-e879e8f769a5')\"\n",
              "            title=\"Convert this dataframe to an interactive table.\"\n",
              "            style=\"display:none;\">\n",
              "\n",
              "  <svg xmlns=\"http://www.w3.org/2000/svg\" height=\"24px\" viewBox=\"0 -960 960 960\">\n",
              "    <path d=\"M120-120v-720h720v720H120Zm60-500h600v-160H180v160Zm220 220h160v-160H400v160Zm0 220h160v-160H400v160ZM180-400h160v-160H180v160Zm440 0h160v-160H620v160ZM180-180h160v-160H180v160Zm440 0h160v-160H620v160Z\"/>\n",
              "  </svg>\n",
              "    </button>\n",
              "\n",
              "  <style>\n",
              "    .colab-df-container {\n",
              "      display:flex;\n",
              "      gap: 12px;\n",
              "    }\n",
              "\n",
              "    .colab-df-convert {\n",
              "      background-color: #E8F0FE;\n",
              "      border: none;\n",
              "      border-radius: 50%;\n",
              "      cursor: pointer;\n",
              "      display: none;\n",
              "      fill: #1967D2;\n",
              "      height: 32px;\n",
              "      padding: 0 0 0 0;\n",
              "      width: 32px;\n",
              "    }\n",
              "\n",
              "    .colab-df-convert:hover {\n",
              "      background-color: #E2EBFA;\n",
              "      box-shadow: 0px 1px 2px rgba(60, 64, 67, 0.3), 0px 1px 3px 1px rgba(60, 64, 67, 0.15);\n",
              "      fill: #174EA6;\n",
              "    }\n",
              "\n",
              "    .colab-df-buttons div {\n",
              "      margin-bottom: 4px;\n",
              "    }\n",
              "\n",
              "    [theme=dark] .colab-df-convert {\n",
              "      background-color: #3B4455;\n",
              "      fill: #D2E3FC;\n",
              "    }\n",
              "\n",
              "    [theme=dark] .colab-df-convert:hover {\n",
              "      background-color: #434B5C;\n",
              "      box-shadow: 0px 1px 3px 1px rgba(0, 0, 0, 0.15);\n",
              "      filter: drop-shadow(0px 1px 2px rgba(0, 0, 0, 0.3));\n",
              "      fill: #FFFFFF;\n",
              "    }\n",
              "  </style>\n",
              "\n",
              "    <script>\n",
              "      const buttonEl =\n",
              "        document.querySelector('#df-14f9de12-0f48-4ca1-991c-e879e8f769a5 button.colab-df-convert');\n",
              "      buttonEl.style.display =\n",
              "        google.colab.kernel.accessAllowed ? 'block' : 'none';\n",
              "\n",
              "      async function convertToInteractive(key) {\n",
              "        const element = document.querySelector('#df-14f9de12-0f48-4ca1-991c-e879e8f769a5');\n",
              "        const dataTable =\n",
              "          await google.colab.kernel.invokeFunction('convertToInteractive',\n",
              "                                                    [key], {});\n",
              "        if (!dataTable) return;\n",
              "\n",
              "        const docLinkHtml = 'Like what you see? Visit the ' +\n",
              "          '<a target=\"_blank\" href=https://colab.research.google.com/notebooks/data_table.ipynb>data table notebook</a>'\n",
              "          + ' to learn more about interactive tables.';\n",
              "        element.innerHTML = '';\n",
              "        dataTable['output_type'] = 'display_data';\n",
              "        await google.colab.output.renderOutput(dataTable, element);\n",
              "        const docLink = document.createElement('div');\n",
              "        docLink.innerHTML = docLinkHtml;\n",
              "        element.appendChild(docLink);\n",
              "      }\n",
              "    </script>\n",
              "  </div>\n",
              "\n",
              "\n",
              "<div id=\"df-aeddfdbe-71f0-4b36-8c23-0caf9d8cc67b\">\n",
              "  <button class=\"colab-df-quickchart\" onclick=\"quickchart('df-aeddfdbe-71f0-4b36-8c23-0caf9d8cc67b')\"\n",
              "            title=\"Suggest charts\"\n",
              "            style=\"display:none;\">\n",
              "\n",
              "<svg xmlns=\"http://www.w3.org/2000/svg\" height=\"24px\"viewBox=\"0 0 24 24\"\n",
              "     width=\"24px\">\n",
              "    <g>\n",
              "        <path d=\"M19 3H5c-1.1 0-2 .9-2 2v14c0 1.1.9 2 2 2h14c1.1 0 2-.9 2-2V5c0-1.1-.9-2-2-2zM9 17H7v-7h2v7zm4 0h-2V7h2v10zm4 0h-2v-4h2v4z\"/>\n",
              "    </g>\n",
              "</svg>\n",
              "  </button>\n",
              "\n",
              "<style>\n",
              "  .colab-df-quickchart {\n",
              "      --bg-color: #E8F0FE;\n",
              "      --fill-color: #1967D2;\n",
              "      --hover-bg-color: #E2EBFA;\n",
              "      --hover-fill-color: #174EA6;\n",
              "      --disabled-fill-color: #AAA;\n",
              "      --disabled-bg-color: #DDD;\n",
              "  }\n",
              "\n",
              "  [theme=dark] .colab-df-quickchart {\n",
              "      --bg-color: #3B4455;\n",
              "      --fill-color: #D2E3FC;\n",
              "      --hover-bg-color: #434B5C;\n",
              "      --hover-fill-color: #FFFFFF;\n",
              "      --disabled-bg-color: #3B4455;\n",
              "      --disabled-fill-color: #666;\n",
              "  }\n",
              "\n",
              "  .colab-df-quickchart {\n",
              "    background-color: var(--bg-color);\n",
              "    border: none;\n",
              "    border-radius: 50%;\n",
              "    cursor: pointer;\n",
              "    display: none;\n",
              "    fill: var(--fill-color);\n",
              "    height: 32px;\n",
              "    padding: 0;\n",
              "    width: 32px;\n",
              "  }\n",
              "\n",
              "  .colab-df-quickchart:hover {\n",
              "    background-color: var(--hover-bg-color);\n",
              "    box-shadow: 0 1px 2px rgba(60, 64, 67, 0.3), 0 1px 3px 1px rgba(60, 64, 67, 0.15);\n",
              "    fill: var(--button-hover-fill-color);\n",
              "  }\n",
              "\n",
              "  .colab-df-quickchart-complete:disabled,\n",
              "  .colab-df-quickchart-complete:disabled:hover {\n",
              "    background-color: var(--disabled-bg-color);\n",
              "    fill: var(--disabled-fill-color);\n",
              "    box-shadow: none;\n",
              "  }\n",
              "\n",
              "  .colab-df-spinner {\n",
              "    border: 2px solid var(--fill-color);\n",
              "    border-color: transparent;\n",
              "    border-bottom-color: var(--fill-color);\n",
              "    animation:\n",
              "      spin 1s steps(1) infinite;\n",
              "  }\n",
              "\n",
              "  @keyframes spin {\n",
              "    0% {\n",
              "      border-color: transparent;\n",
              "      border-bottom-color: var(--fill-color);\n",
              "      border-left-color: var(--fill-color);\n",
              "    }\n",
              "    20% {\n",
              "      border-color: transparent;\n",
              "      border-left-color: var(--fill-color);\n",
              "      border-top-color: var(--fill-color);\n",
              "    }\n",
              "    30% {\n",
              "      border-color: transparent;\n",
              "      border-left-color: var(--fill-color);\n",
              "      border-top-color: var(--fill-color);\n",
              "      border-right-color: var(--fill-color);\n",
              "    }\n",
              "    40% {\n",
              "      border-color: transparent;\n",
              "      border-right-color: var(--fill-color);\n",
              "      border-top-color: var(--fill-color);\n",
              "    }\n",
              "    60% {\n",
              "      border-color: transparent;\n",
              "      border-right-color: var(--fill-color);\n",
              "    }\n",
              "    80% {\n",
              "      border-color: transparent;\n",
              "      border-right-color: var(--fill-color);\n",
              "      border-bottom-color: var(--fill-color);\n",
              "    }\n",
              "    90% {\n",
              "      border-color: transparent;\n",
              "      border-bottom-color: var(--fill-color);\n",
              "    }\n",
              "  }\n",
              "</style>\n",
              "\n",
              "  <script>\n",
              "    async function quickchart(key) {\n",
              "      const quickchartButtonEl =\n",
              "        document.querySelector('#' + key + ' button');\n",
              "      quickchartButtonEl.disabled = true;  // To prevent multiple clicks.\n",
              "      quickchartButtonEl.classList.add('colab-df-spinner');\n",
              "      try {\n",
              "        const charts = await google.colab.kernel.invokeFunction(\n",
              "            'suggestCharts', [key], {});\n",
              "      } catch (error) {\n",
              "        console.error('Error during call to suggestCharts:', error);\n",
              "      }\n",
              "      quickchartButtonEl.classList.remove('colab-df-spinner');\n",
              "      quickchartButtonEl.classList.add('colab-df-quickchart-complete');\n",
              "    }\n",
              "    (() => {\n",
              "      let quickchartButtonEl =\n",
              "        document.querySelector('#df-aeddfdbe-71f0-4b36-8c23-0caf9d8cc67b button');\n",
              "      quickchartButtonEl.style.display =\n",
              "        google.colab.kernel.accessAllowed ? 'block' : 'none';\n",
              "    })();\n",
              "  </script>\n",
              "</div>\n",
              "    </div>\n",
              "  </div>\n"
            ]
          },
          "metadata": {}
        }
      ]
    },
    {
      "cell_type": "markdown",
      "source": [
        "## Data exploration and processing"
      ],
      "metadata": {
        "id": "g8BuvGoHkL1Q"
      }
    },
    {
      "cell_type": "code",
      "source": [
        "df.shape"
      ],
      "metadata": {
        "colab": {
          "base_uri": "https://localhost:8080/"
        },
        "id": "U2bInDeekGql",
        "outputId": "765ad60f-0ae5-4208-e475-e62de76a884e"
      },
      "execution_count": 36,
      "outputs": [
        {
          "output_type": "execute_result",
          "data": {
            "text/plain": [
              "(6652, 5)"
            ]
          },
          "metadata": {},
          "execution_count": 36
        }
      ]
    },
    {
      "cell_type": "code",
      "source": [
        "# Display general information about the DataFrame\n",
        "print(\"DataFrame Information:\")\n",
        "print(df.info())\n",
        "\n",
        "# Display the number of rows and columns in the DataFrame\n",
        "print(\"\\nDataFrame Shape:\")\n",
        "print(df.shape)\n",
        "\n",
        "# Display the total number of elements in the DataFrame\n",
        "print(\"\\nDataFrame Size:\")\n",
        "print(df.size)\n",
        "\n",
        "# Display descriptive statistics of the DataFrame\n",
        "print(\"\\nDataFrame Descriptive Statistics:\")\n",
        "print(df.describe())\n",
        "\n",
        "# Display the first few rows of the DataFrame\n",
        "print(\"\\nFirst few rows of the DataFrame:\")\n",
        "print(df.head())\n",
        "\n",
        "# Display the last few rows of the DataFrame\n",
        "print(\"\\nLast few rows of the DataFrame:\")\n",
        "print(df.tail())"
      ],
      "metadata": {
        "colab": {
          "base_uri": "https://localhost:8080/"
        },
        "id": "TtxWuelGkJht",
        "outputId": "3e688e80-50a3-4df4-c826-a4fd011c3834"
      },
      "execution_count": 37,
      "outputs": [
        {
          "output_type": "stream",
          "name": "stdout",
          "text": [
            "DataFrame Information:\n",
            "<class 'pandas.core.frame.DataFrame'>\n",
            "RangeIndex: 6652 entries, 0 to 6651\n",
            "Data columns (total 5 columns):\n",
            " #   Column      Non-Null Count  Dtype  \n",
            "---  ------      --------------  -----  \n",
            " 0   Unnamed: 0  6652 non-null   int64  \n",
            " 1   Unnamed: 1  0 non-null      float64\n",
            " 2   Unnamed: 2  0 non-null      float64\n",
            " 3   sentence    6652 non-null   object \n",
            " 4   sentiment   6652 non-null   int64  \n",
            "dtypes: float64(2), int64(2), object(1)\n",
            "memory usage: 260.0+ KB\n",
            "None\n",
            "\n",
            "DataFrame Shape:\n",
            "(6652, 5)\n",
            "\n",
            "DataFrame Size:\n",
            "33260\n",
            "\n",
            "DataFrame Descriptive Statistics:\n",
            "        Unnamed: 0  Unnamed: 1  Unnamed: 2    sentiment\n",
            "count  6652.000000         0.0         0.0  6652.000000\n",
            "mean   3325.500000         NaN         NaN     0.456554\n",
            "std    1920.411327         NaN         NaN     0.498146\n",
            "min       0.000000         NaN         NaN     0.000000\n",
            "25%    1662.750000         NaN         NaN     0.000000\n",
            "50%    3325.500000         NaN         NaN     0.000000\n",
            "75%    4988.250000         NaN         NaN     1.000000\n",
            "max    6651.000000         NaN         NaN     1.000000\n",
            "\n",
            "First few rows of the DataFrame:\n",
            "   Unnamed: 0  Unnamed: 1  Unnamed: 2  \\\n",
            "0           0         NaN         NaN   \n",
            "1           1         NaN         NaN   \n",
            "2           2         NaN         NaN   \n",
            "3           3         NaN         NaN   \n",
            "4           4         NaN         NaN   \n",
            "\n",
            "                                            sentence  sentiment  \n",
            "0                            ওয়ও আমি গর্বিত বাঙ্গালি          1  \n",
            "1  বাংলাদেশ এর কিছু মানুষ নিজে কিছু করতে পারবেনা ...          0  \n",
            "2                                 রামোসের ঘুম আসে না          0  \n",
            "3                  কোহলির প্রতি শ্রদ্ধা হারিয়ে ফেলছি          1  \n",
            "4  থ্যাঙ্ক ইউ মাছরাঙ্গা টেলিভিশনকিন্তু ছাপোষা আন্...          0  \n",
            "\n",
            "Last few rows of the DataFrame:\n",
            "      Unnamed: 0  Unnamed: 1  Unnamed: 2  \\\n",
            "6647        6647         NaN         NaN   \n",
            "6648        6648         NaN         NaN   \n",
            "6649        6649         NaN         NaN   \n",
            "6650        6650         NaN         NaN   \n",
            "6651        6651         NaN         NaN   \n",
            "\n",
            "                                               sentence  sentiment  \n",
            "6647  আমি কখনো আশা করিনি যে আমি আমার স্বপ্নের প্রিয় ...          1  \n",
            "6648  মিডিয়া লিটনকে একজন খারাপ মানুষ হিসেবে প্রতিষ্ঠ...          0  \n",
            "6649  বাংলাদেশের জন্ম কিংবা তার পূর্বের ইতিহাস অনেকে...          0  \n",
            "6650  আপনারা সিম নিবন্দন করালেন বাংলাদেশে অপরাধ কমবে...          0  \n",
            "6651  কত দিন যে মোবাইল ছুড়ে ফেলতে ইচ্ছা হয়েছে তার ...          0  \n"
          ]
        }
      ]
    },
    {
      "cell_type": "code",
      "source": [
        "df['sentiment'].value_counts()"
      ],
      "metadata": {
        "colab": {
          "base_uri": "https://localhost:8080/"
        },
        "id": "Ay7WXFCfkOZd",
        "outputId": "45a83a60-46b9-4cff-f765-52aa73d8969b"
      },
      "execution_count": 38,
      "outputs": [
        {
          "output_type": "execute_result",
          "data": {
            "text/plain": [
              "0    3615\n",
              "1    3037\n",
              "Name: sentiment, dtype: int64"
            ]
          },
          "metadata": {},
          "execution_count": 38
        }
      ]
    },
    {
      "cell_type": "code",
      "source": [
        "df.reset_index(drop=True, inplace=True)\n",
        "df['sentence'] = df.sentence.apply(lambda x: preprocessing(str(x)))"
      ],
      "metadata": {
        "id": "r-VK0YwxkRT8"
      },
      "execution_count": 39,
      "outputs": []
    },
    {
      "cell_type": "code",
      "source": [
        "# data1 =pd.read_excel('stopwords_bangla.xlsx')\n",
        "# stop = data1['words'].tolist()"
      ],
      "metadata": {
        "id": "ja73b-QUMvJ_"
      },
      "execution_count": 40,
      "outputs": []
    },
    {
      "cell_type": "code",
      "source": [
        "# def stopwordRemoval(text):\n",
        "#     x=str(text)\n",
        "#     l=x.split()\n",
        "\n",
        "#     stm=[elem for elem in l if elem not in stop]\n",
        "\n",
        "#     out=' '.join(stm)\n",
        "\n",
        "#     return str(out)"
      ],
      "metadata": {
        "id": "SGKKXWdHMvGV"
      },
      "execution_count": 41,
      "outputs": []
    },
    {
      "cell_type": "code",
      "source": [
        "# df['sentence'] = df.sentence.apply(lambda x: stopwordRemoval(str(x)))"
      ],
      "metadata": {
        "id": "vUrZ9zWUMvDq"
      },
      "execution_count": 42,
      "outputs": []
    },
    {
      "cell_type": "code",
      "source": [],
      "metadata": {
        "id": "QzXT6T58NKbe"
      },
      "execution_count": 42,
      "outputs": []
    },
    {
      "cell_type": "code",
      "source": [],
      "metadata": {
        "id": "SZEKdjjONKZN"
      },
      "execution_count": 42,
      "outputs": []
    },
    {
      "cell_type": "code",
      "source": [],
      "metadata": {
        "id": "fT2gZ_0-NKWn"
      },
      "execution_count": 42,
      "outputs": []
    },
    {
      "cell_type": "markdown",
      "source": [
        ">Now I will prepare the dataset to train in the CNN LSTM network.\n",
        "So I have to convert all Sentences into a numpy Array.\n",
        "I have divided the training and testing data into an 80/20 ratio.\n",
        "I have converted the sentiment values into one-hot encodings for convenient use in model training."
      ],
      "metadata": {
        "id": "nVJMjmgglTcD"
      }
    },
    {
      "cell_type": "code",
      "source": [
        "train1, test1 = train_test_split(df,random_state=69, test_size=0.2)\n",
        "training_sentences = []\n",
        "testing_sentences = []\n",
        "\n",
        "train_sentences=train1['sentence'].values\n",
        "train_labels=train1['sentiment'].values\n",
        "for i in range(train_sentences.shape[0]):\n",
        "    #print(train_sentences[i])\n",
        "    x=str(train_sentences[i])\n",
        "    training_sentences.append(x)\n",
        "\n",
        "training_sentences=np.array(training_sentences)"
      ],
      "metadata": {
        "id": "QDuBklx4krYk"
      },
      "execution_count": 43,
      "outputs": []
    },
    {
      "cell_type": "code",
      "source": [
        "test_sentences=test1['sentence'].values\n",
        "test_labels=test1['sentiment'].values\n",
        "\n",
        "for i in range(test_sentences.shape[0]):\n",
        "    x=str(test_sentences[i])\n",
        "    testing_sentences.append(x)\n",
        "\n",
        "testing_sentences=np.array(testing_sentences)\n",
        "\n",
        "\n",
        "train_labels=keras.utils.to_categorical(train_labels)\n",
        "\n",
        "\n",
        "test_labels=keras.utils.to_categorical(test_labels)"
      ],
      "metadata": {
        "id": "7X2PUKrMktj0"
      },
      "execution_count": 44,
      "outputs": []
    },
    {
      "cell_type": "code",
      "source": [
        "print(\"Training Set Length: \"+str(len(train1)))\n",
        "print(\"Testing Set Length: \"+str(len(test1)))\n",
        "print(\"training_sentences shape: \"+str(training_sentences.shape))\n",
        "print(\"testing_sentences shape: \"+str(testing_sentences.shape))\n",
        "print(\"train_labels shape: \"+str(train_labels.shape))\n",
        "print(\"test_labels shape: \"+str(test_labels.shape))"
      ],
      "metadata": {
        "colab": {
          "base_uri": "https://localhost:8080/"
        },
        "id": "N2sYavAOl5ga",
        "outputId": "68d5b846-6cc4-4689-aa08-996366fa2897"
      },
      "execution_count": 45,
      "outputs": [
        {
          "output_type": "stream",
          "name": "stdout",
          "text": [
            "Training Set Length: 5321\n",
            "Testing Set Length: 1331\n",
            "training_sentences shape: (5321,)\n",
            "testing_sentences shape: (1331,)\n",
            "train_labels shape: (5321, 2)\n",
            "test_labels shape: (1331, 2)\n"
          ]
        }
      ]
    },
    {
      "cell_type": "code",
      "source": [
        "training_sentences[3]"
      ],
      "metadata": {
        "colab": {
          "base_uri": "https://localhost:8080/",
          "height": 35
        },
        "id": "mcz1eMuLmOKO",
        "outputId": "7842d554-b130-422a-9591-b6627c778738"
      },
      "execution_count": 46,
      "outputs": [
        {
          "output_type": "execute_result",
          "data": {
            "text/plain": [
              "'টাকা কি গাছে ধরে'"
            ],
            "application/vnd.google.colaboratory.intrinsic+json": {
              "type": "string"
            }
          },
          "metadata": {},
          "execution_count": 46
        }
      ]
    },
    {
      "cell_type": "code",
      "source": [
        "train_labels[3]"
      ],
      "metadata": {
        "colab": {
          "base_uri": "https://localhost:8080/"
        },
        "id": "e5LmL8nbmbqW",
        "outputId": "48f2d946-55f0-417e-d914-fa1f3c40cf93"
      },
      "execution_count": 47,
      "outputs": [
        {
          "output_type": "execute_result",
          "data": {
            "text/plain": [
              "array([1., 0.], dtype=float32)"
            ]
          },
          "metadata": {},
          "execution_count": 47
        }
      ]
    },
    {
      "cell_type": "code",
      "source": [
        "print(training_sentences.shape)\n",
        "print(train_labels.shape)"
      ],
      "metadata": {
        "colab": {
          "base_uri": "https://localhost:8080/"
        },
        "id": "jmTGSRZIsE5P",
        "outputId": "a841687d-a227-4f11-88bf-a2b77e502a2c"
      },
      "execution_count": 48,
      "outputs": [
        {
          "output_type": "stream",
          "name": "stdout",
          "text": [
            "(5321,)\n",
            "(5321, 2)\n"
          ]
        }
      ]
    },
    {
      "cell_type": "code",
      "source": [
        "vocab_size = 20000\n",
        "embedding_dim = 300\n",
        "max_length = 150\n",
        "trunc_type='post'\n",
        "oov_tok = \"<OOV>\""
      ],
      "metadata": {
        "id": "VYD1JErFnIMM"
      },
      "execution_count": 49,
      "outputs": []
    },
    {
      "cell_type": "markdown",
      "source": [
        "**Tokenize**"
      ],
      "metadata": {
        "id": "U3ECuXHJsf3M"
      }
    },
    {
      "cell_type": "code",
      "source": [
        "tokenizer = Tokenizer(num_words = vocab_size, oov_token=oov_tok)\n",
        "tokenizer.fit_on_texts(training_sentences)\n",
        "word_index = tokenizer.word_index\n",
        "print(len(word_index))"
      ],
      "metadata": {
        "colab": {
          "base_uri": "https://localhost:8080/"
        },
        "id": "R5QiofJjpj_f",
        "outputId": "eb8f6baa-df54-47c9-8097-4a1a90c90f90"
      },
      "execution_count": 50,
      "outputs": [
        {
          "output_type": "stream",
          "name": "stdout",
          "text": [
            "18247\n"
          ]
        }
      ]
    },
    {
      "cell_type": "code",
      "source": [
        "from keras.preprocessing.sequence import pad_sequences"
      ],
      "metadata": {
        "id": "NO1hfkwiuNUj"
      },
      "execution_count": 51,
      "outputs": []
    },
    {
      "cell_type": "code",
      "source": [
        "sequences = tokenizer.texts_to_sequences(training_sentences)\n",
        "padded = pad_sequences(sequences,maxlen=max_length, truncating=trunc_type)\n",
        "\n",
        "\n",
        "test_sequences = tokenizer.texts_to_sequences(testing_sentences)\n",
        "testing_padded = pad_sequences(test_sequences,maxlen=max_length)"
      ],
      "metadata": {
        "id": "k5EgqZtcssq0"
      },
      "execution_count": 52,
      "outputs": []
    },
    {
      "cell_type": "code",
      "source": [
        "print(\"Sentence :--> \\n\")\n",
        "print(training_sentences[3]+\"\\n\")\n",
        "print(\"Sentence Tokenized and Converted into Sequence :--> \\n\")\n",
        "print(str(sequences[3])+\"\\n\")\n",
        "print(\"After Padding the Sequence with padding length 100 :--> \\n\")\n",
        "print(padded[2])"
      ],
      "metadata": {
        "colab": {
          "base_uri": "https://localhost:8080/"
        },
        "id": "vLb9Gr0du10e",
        "outputId": "202c360e-c60e-46cb-f6f8-299b2502334f"
      },
      "execution_count": 53,
      "outputs": [
        {
          "output_type": "stream",
          "name": "stdout",
          "text": [
            "Sentence :--> \n",
            "\n",
            "টাকা কি গাছে ধরে\n",
            "\n",
            "Sentence Tokenized and Converted into Sequence :--> \n",
            "\n",
            "[14, 7, 1157, 158]\n",
            "\n",
            "After Padding the Sequence with padding length 100 :--> \n",
            "\n",
            "[   0    0    0    0    0    0    0    0    0    0    0    0    0    0\n",
            "    0    0    0    0    0    0    0    0    0    0    0    0    0    0\n",
            "    0    0    0    0    0    0    0    0    0    0    0    0    0    0\n",
            "    0    0    0    0    0    0    0    0    0    0    0    0    0    0\n",
            "    0    0    0    0    0    0    0    0    0    0    0    0    0    0\n",
            "    0    0    0    0    0    0    0    0    0    0    0    0    0    0\n",
            "    0    0    0    0    0    0    0    0    0    0    0    0    0    0\n",
            "    0    0    0    0    0    0    0    0    0    0    0    0    0    0\n",
            "    0    0    0    0    0    0    0    0    0    0    0    0    0    0\n",
            "    0    0    0    0    0    0    0    0    0    0    0    0    0    0\n",
            "    0  263 4331 6803  108  473  602  317  439    2]\n"
          ]
        }
      ]
    },
    {
      "cell_type": "code",
      "source": [
        "# from sklearn.preprocessing import MinMaxScaler\n",
        "\n",
        "# # Create an instance of MinMaxScaler\n",
        "# scaler = MinMaxScaler()\n",
        "\n",
        "# # Reshape the padded sequences to a 2D array for scaling\n",
        "# padded_2d = padded.reshape(padded.shape[0], -1)\n",
        "\n",
        "# # Fit the scaler on the training data\n",
        "# scaler.fit(padded_2d)\n",
        "\n",
        "# # Scale the training and testing data\n",
        "# scaled_padded = scaler.transform(padded_2d)\n",
        "# scaled_testing_padded = scaler.transform(testing_padded.reshape(testing_padded.shape[0], -1))\n",
        "\n",
        "# # Reshape the scaled data back to the original shape\n",
        "# scaled_padded = scaled_padded.reshape(padded.shape)\n",
        "# scaled_testing_padded = scaled_testing_padded.reshape(testing_padded.shape)"
      ],
      "metadata": {
        "id": "r6yN5w1oJaEA"
      },
      "execution_count": 54,
      "outputs": []
    },
    {
      "cell_type": "code",
      "source": [],
      "metadata": {
        "id": "kB9eCNVsJZ5s"
      },
      "execution_count": 54,
      "outputs": []
    },
    {
      "cell_type": "code",
      "source": [
        "print(\"Padded shape(training): \"+str(padded.shape))\n",
        "print(\"Padded shape(testing): \"+str(testing_padded.shape))"
      ],
      "metadata": {
        "colab": {
          "base_uri": "https://localhost:8080/"
        },
        "id": "T0CUvTeiu4Zy",
        "outputId": "e77408be-caf6-4b29-e718-7bda6ad9781f"
      },
      "execution_count": 55,
      "outputs": [
        {
          "output_type": "stream",
          "name": "stdout",
          "text": [
            "Padded shape(training): (5321, 150)\n",
            "Padded shape(testing): (1331, 150)\n"
          ]
        }
      ]
    },
    {
      "cell_type": "code",
      "source": [],
      "metadata": {
        "id": "CNmUBtuPvsMz"
      },
      "execution_count": 55,
      "outputs": []
    },
    {
      "cell_type": "code",
      "source": [],
      "metadata": {
        "id": "7-7JugvxwHxz"
      },
      "execution_count": 55,
      "outputs": []
    },
    {
      "cell_type": "markdown",
      "source": [
        "**model selection**"
      ],
      "metadata": {
        "id": "jPIieHlXwXK8"
      }
    },
    {
      "cell_type": "code",
      "source": [
        "\n",
        "import tensorflow as tf\n",
        "from tensorflow.keras.models import Sequential\n",
        "from tensorflow.keras.layers import Embedding, Conv1D, LSTM, Dropout, Dense, Bidirectional, Flatten\n",
        "from tensorflow.keras import regularizers\n",
        "from tensorflow.keras.optimizers import Adam"
      ],
      "metadata": {
        "id": "h_I1_1g7wHvD"
      },
      "execution_count": 56,
      "outputs": []
    },
    {
      "cell_type": "code",
      "source": [
        "with tf.device('/gpu:0'):\n",
        "    model = Sequential()\n",
        "    model.add(Embedding(vocab_size, embedding_dim, input_length=max_length))\n",
        "    model.add(Conv1D(128, kernel_size=3, activation=\"relu\"))\n",
        "    model.add(Bidirectional(LSTM(128, return_sequences=True)))\n",
        "    model.add(Dropout(0.2))\n",
        "    model.add(Bidirectional(LSTM(128)))\n",
        "    model.add(Dense(64, activation='relu'))\n",
        "    model.add(Dense(32, activation='relu'))\n",
        "    model.add(Flatten())\n",
        "    model.add(Dense(100, kernel_regularizer=regularizers.l2(0.01), activation=\"relu\"))\n",
        "    model.add(Dropout(0.2))\n",
        "    model.add(Dense(2, activation='sigmoid'))\n",
        "    adam = Adam(learning_rate=0.0001, beta_1=0.9, beta_2=0.999, epsilon=1e-07, amsgrad=False)\n",
        "    model.summary()\n",
        "    model.compile(loss='binary_crossentropy', optimizer=adam, metrics=['accuracy'])\n"
      ],
      "metadata": {
        "colab": {
          "base_uri": "https://localhost:8080/"
        },
        "id": "AKrXTcoWwIqQ",
        "outputId": "951686f5-e470-4186-e978-b64837b3a614"
      },
      "execution_count": 57,
      "outputs": [
        {
          "output_type": "stream",
          "name": "stdout",
          "text": [
            "Model: \"sequential_1\"\n",
            "_________________________________________________________________\n",
            " Layer (type)                Output Shape              Param #   \n",
            "=================================================================\n",
            " embedding_1 (Embedding)     (None, 150, 300)          6000000   \n",
            "                                                                 \n",
            " conv1d_1 (Conv1D)           (None, 148, 128)          115328    \n",
            "                                                                 \n",
            " bidirectional_2 (Bidirecti  (None, 148, 256)          263168    \n",
            " onal)                                                           \n",
            "                                                                 \n",
            " dropout_2 (Dropout)         (None, 148, 256)          0         \n",
            "                                                                 \n",
            " bidirectional_3 (Bidirecti  (None, 256)               394240    \n",
            " onal)                                                           \n",
            "                                                                 \n",
            " dense_4 (Dense)             (None, 64)                16448     \n",
            "                                                                 \n",
            " dense_5 (Dense)             (None, 32)                2080      \n",
            "                                                                 \n",
            " flatten_1 (Flatten)         (None, 32)                0         \n",
            "                                                                 \n",
            " dense_6 (Dense)             (None, 100)               3300      \n",
            "                                                                 \n",
            " dropout_3 (Dropout)         (None, 100)               0         \n",
            "                                                                 \n",
            " dense_7 (Dense)             (None, 2)                 202       \n",
            "                                                                 \n",
            "=================================================================\n",
            "Total params: 6794766 (25.92 MB)\n",
            "Trainable params: 6794766 (25.92 MB)\n",
            "Non-trainable params: 0 (0.00 Byte)\n",
            "_________________________________________________________________\n"
          ]
        }
      ]
    },
    {
      "cell_type": "code",
      "source": [
        "history=model.fit(padded,train_labels,epochs=50,batch_size=256,\n",
        "                  validation_data=(testing_padded,test_labels),\n",
        "                  use_multiprocessing=True, workers=8)"
      ],
      "metadata": {
        "colab": {
          "base_uri": "https://localhost:8080/"
        },
        "id": "896Y1ecXxKNf",
        "outputId": "bfffbfdd-ea53-4e24-ff66-e3382c0d95cd"
      },
      "execution_count": 58,
      "outputs": [
        {
          "output_type": "stream",
          "name": "stdout",
          "text": [
            "Epoch 1/50\n",
            "21/21 [==============================] - 13s 238ms/step - loss: 1.1747 - accuracy: 0.5405 - val_loss: 1.1655 - val_accuracy: 0.5470\n",
            "Epoch 2/50\n",
            "21/21 [==============================] - 3s 151ms/step - loss: 1.1569 - accuracy: 0.5685 - val_loss: 1.1445 - val_accuracy: 0.6071\n",
            "Epoch 3/50\n",
            "21/21 [==============================] - 4s 198ms/step - loss: 1.1352 - accuracy: 0.5884 - val_loss: 1.1153 - val_accuracy: 0.6123\n",
            "Epoch 4/50\n",
            "21/21 [==============================] - 4s 183ms/step - loss: 1.1031 - accuracy: 0.6048 - val_loss: 1.0761 - val_accuracy: 0.6334\n",
            "Epoch 5/50\n",
            "21/21 [==============================] - 3s 155ms/step - loss: 1.0236 - accuracy: 0.6916 - val_loss: 0.9636 - val_accuracy: 0.7483\n",
            "Epoch 6/50\n",
            "21/21 [==============================] - 3s 138ms/step - loss: 0.7834 - accuracy: 0.8752 - val_loss: 0.8357 - val_accuracy: 0.8219\n",
            "Epoch 7/50\n",
            "21/21 [==============================] - 4s 177ms/step - loss: 0.6117 - accuracy: 0.9384 - val_loss: 0.8446 - val_accuracy: 0.8355\n",
            "Epoch 8/50\n",
            "21/21 [==============================] - 3s 161ms/step - loss: 0.5237 - accuracy: 0.9665 - val_loss: 0.9784 - val_accuracy: 0.8257\n",
            "Epoch 9/50\n",
            "21/21 [==============================] - 3s 134ms/step - loss: 0.4830 - accuracy: 0.9754 - val_loss: 0.9289 - val_accuracy: 0.8407\n",
            "Epoch 10/50\n",
            "21/21 [==============================] - 3s 152ms/step - loss: 0.4356 - accuracy: 0.9863 - val_loss: 0.9802 - val_accuracy: 0.8430\n",
            "Epoch 11/50\n",
            "21/21 [==============================] - 3s 150ms/step - loss: 0.4085 - accuracy: 0.9912 - val_loss: 1.0259 - val_accuracy: 0.8452\n",
            "Epoch 12/50\n",
            "21/21 [==============================] - 3s 167ms/step - loss: 0.3866 - accuracy: 0.9938 - val_loss: 1.0238 - val_accuracy: 0.8527\n",
            "Epoch 13/50\n",
            "21/21 [==============================] - 3s 136ms/step - loss: 0.3718 - accuracy: 0.9966 - val_loss: 1.0659 - val_accuracy: 0.8535\n",
            "Epoch 14/50\n",
            "21/21 [==============================] - 3s 160ms/step - loss: 0.3566 - accuracy: 0.9974 - val_loss: 1.1167 - val_accuracy: 0.8490\n",
            "Epoch 15/50\n",
            "21/21 [==============================] - 3s 149ms/step - loss: 0.3477 - accuracy: 0.9974 - val_loss: 1.1096 - val_accuracy: 0.8520\n",
            "Epoch 16/50\n",
            "21/21 [==============================] - 4s 181ms/step - loss: 0.3373 - accuracy: 0.9974 - val_loss: 1.1558 - val_accuracy: 0.8490\n",
            "Epoch 17/50\n",
            "21/21 [==============================] - 2s 118ms/step - loss: 0.3267 - accuracy: 0.9976 - val_loss: 1.2129 - val_accuracy: 0.8400\n",
            "Epoch 18/50\n",
            "21/21 [==============================] - 3s 143ms/step - loss: 0.3228 - accuracy: 0.9968 - val_loss: 1.3477 - val_accuracy: 0.8092\n",
            "Epoch 19/50\n",
            "21/21 [==============================] - 3s 134ms/step - loss: 0.3154 - accuracy: 0.9962 - val_loss: 1.0912 - val_accuracy: 0.8415\n",
            "Epoch 20/50\n",
            "21/21 [==============================] - 3s 161ms/step - loss: 0.3029 - accuracy: 0.9974 - val_loss: 1.0983 - val_accuracy: 0.8430\n",
            "Epoch 21/50\n",
            "21/21 [==============================] - 3s 151ms/step - loss: 0.2895 - accuracy: 0.9981 - val_loss: 1.1401 - val_accuracy: 0.8452\n",
            "Epoch 22/50\n",
            "21/21 [==============================] - 3s 127ms/step - loss: 0.2827 - accuracy: 0.9983 - val_loss: 1.1547 - val_accuracy: 0.8445\n",
            "Epoch 23/50\n",
            "21/21 [==============================] - 2s 116ms/step - loss: 0.2758 - accuracy: 0.9981 - val_loss: 1.2012 - val_accuracy: 0.8362\n",
            "Epoch 24/50\n",
            "21/21 [==============================] - 3s 127ms/step - loss: 0.2664 - accuracy: 0.9985 - val_loss: 1.1728 - val_accuracy: 0.8385\n",
            "Epoch 25/50\n",
            "21/21 [==============================] - 3s 162ms/step - loss: 0.2564 - accuracy: 0.9991 - val_loss: 1.1752 - val_accuracy: 0.8452\n",
            "Epoch 26/50\n",
            "21/21 [==============================] - 3s 130ms/step - loss: 0.2493 - accuracy: 0.9991 - val_loss: 1.2376 - val_accuracy: 0.8355\n",
            "Epoch 27/50\n",
            "21/21 [==============================] - 2s 118ms/step - loss: 0.2425 - accuracy: 0.9991 - val_loss: 1.2055 - val_accuracy: 0.8475\n",
            "Epoch 28/50\n",
            "21/21 [==============================] - 2s 116ms/step - loss: 0.2357 - accuracy: 0.9991 - val_loss: 1.2069 - val_accuracy: 0.8482\n",
            "Epoch 29/50\n",
            "21/21 [==============================] - 3s 125ms/step - loss: 0.2283 - accuracy: 0.9991 - val_loss: 1.2337 - val_accuracy: 0.8422\n",
            "Epoch 30/50\n",
            "21/21 [==============================] - 3s 156ms/step - loss: 0.2215 - accuracy: 0.9991 - val_loss: 1.2222 - val_accuracy: 0.8490\n",
            "Epoch 31/50\n",
            "21/21 [==============================] - 3s 151ms/step - loss: 0.2155 - accuracy: 0.9991 - val_loss: 1.2246 - val_accuracy: 0.8497\n",
            "Epoch 32/50\n",
            "21/21 [==============================] - 2s 120ms/step - loss: 0.2090 - accuracy: 0.9992 - val_loss: 1.2066 - val_accuracy: 0.8482\n",
            "Epoch 33/50\n",
            "21/21 [==============================] - 3s 138ms/step - loss: 0.2249 - accuracy: 0.9947 - val_loss: 1.1039 - val_accuracy: 0.8340\n",
            "Epoch 34/50\n",
            "21/21 [==============================] - 2s 100ms/step - loss: 0.2020 - accuracy: 0.9979 - val_loss: 1.0656 - val_accuracy: 0.8355\n",
            "Epoch 35/50\n",
            "21/21 [==============================] - 3s 141ms/step - loss: 0.1959 - accuracy: 0.9987 - val_loss: 1.0521 - val_accuracy: 0.8482\n",
            "Epoch 36/50\n",
            "21/21 [==============================] - 3s 128ms/step - loss: 0.1897 - accuracy: 0.9991 - val_loss: 1.1124 - val_accuracy: 0.8475\n",
            "Epoch 37/50\n",
            "21/21 [==============================] - 3s 133ms/step - loss: 0.1828 - accuracy: 0.9991 - val_loss: 1.1606 - val_accuracy: 0.8370\n",
            "Epoch 38/50\n",
            "21/21 [==============================] - 3s 129ms/step - loss: 0.1803 - accuracy: 0.9974 - val_loss: 1.0857 - val_accuracy: 0.8490\n",
            "Epoch 39/50\n",
            "21/21 [==============================] - 3s 119ms/step - loss: 0.1725 - accuracy: 0.9981 - val_loss: 1.1450 - val_accuracy: 0.8347\n",
            "Epoch 40/50\n",
            "21/21 [==============================] - 3s 135ms/step - loss: 0.1650 - accuracy: 0.9994 - val_loss: 1.1320 - val_accuracy: 0.8467\n",
            "Epoch 41/50\n",
            "21/21 [==============================] - 3s 126ms/step - loss: 0.1593 - accuracy: 0.9994 - val_loss: 1.1794 - val_accuracy: 0.8482\n",
            "Epoch 42/50\n",
            "21/21 [==============================] - 2s 120ms/step - loss: 0.1537 - accuracy: 0.9998 - val_loss: 1.2002 - val_accuracy: 0.8490\n",
            "Epoch 43/50\n",
            "21/21 [==============================] - 2s 111ms/step - loss: 0.1490 - accuracy: 0.9998 - val_loss: 1.2151 - val_accuracy: 0.8482\n",
            "Epoch 44/50\n",
            "21/21 [==============================] - 3s 132ms/step - loss: 0.1445 - accuracy: 0.9998 - val_loss: 1.2292 - val_accuracy: 0.8490\n",
            "Epoch 45/50\n",
            "21/21 [==============================] - 3s 139ms/step - loss: 0.1401 - accuracy: 0.9998 - val_loss: 1.2368 - val_accuracy: 0.8505\n",
            "Epoch 46/50\n",
            "21/21 [==============================] - 3s 136ms/step - loss: 0.1359 - accuracy: 0.9998 - val_loss: 1.2431 - val_accuracy: 0.8512\n",
            "Epoch 47/50\n",
            "21/21 [==============================] - 2s 114ms/step - loss: 0.1317 - accuracy: 0.9998 - val_loss: 1.2540 - val_accuracy: 0.8497\n",
            "Epoch 48/50\n",
            "21/21 [==============================] - 3s 126ms/step - loss: 0.1277 - accuracy: 0.9998 - val_loss: 1.2576 - val_accuracy: 0.8512\n",
            "Epoch 49/50\n",
            "21/21 [==============================] - 2s 113ms/step - loss: 0.1238 - accuracy: 0.9998 - val_loss: 1.2659 - val_accuracy: 0.8505\n",
            "Epoch 50/50\n",
            "21/21 [==============================] - 2s 120ms/step - loss: 0.1199 - accuracy: 0.9998 - val_loss: 1.2736 - val_accuracy: 0.8520\n"
          ]
        }
      ]
    },
    {
      "cell_type": "code",
      "source": [
        "import matplotlib.pyplot as plt"
      ],
      "metadata": {
        "id": "-MjeMV6PGvKk"
      },
      "execution_count": 59,
      "outputs": []
    },
    {
      "cell_type": "code",
      "source": [
        "print(history.history.keys())\n",
        "loss = history.history['loss']\n",
        "val_loss = history.history['val_loss']\n",
        "plt.plot(loss)\n",
        "plt.plot(val_loss)\n",
        "plt.title('model loss')\n",
        "plt.ylabel('loss')\n",
        "plt.xlabel('epoch')\n",
        "plt.legend(['loss', 'val_loss'])\n",
        "plt.show()\n",
        "\n",
        "accuracy = history.history['accuracy']\n",
        "val_accuracy= history.history['val_accuracy']\n",
        "plt.plot(accuracy)\n",
        "plt.plot(val_accuracy)\n",
        "plt.title('model accuracy')\n",
        "plt.ylabel('accuracy')\n",
        "plt.xlabel('epoch')\n",
        "plt.legend(['accuracy', 'val_accuracy'])\n",
        "plt.show()"
      ],
      "metadata": {
        "colab": {
          "base_uri": "https://localhost:8080/",
          "height": 944
        },
        "id": "LD9QisudFkvm",
        "outputId": "43adcdca-7dbe-4e69-dc8e-7a55713b6fa7"
      },
      "execution_count": 60,
      "outputs": [
        {
          "output_type": "stream",
          "name": "stdout",
          "text": [
            "dict_keys(['loss', 'accuracy', 'val_loss', 'val_accuracy'])\n"
          ]
        },
        {
          "output_type": "display_data",
          "data": {
            "text/plain": [
              "<Figure size 640x480 with 1 Axes>"
            ],
            "image/png": "[encoded data removed]"
          },
          "metadata": {}
        },
        {
          "output_type": "display_data",
          "data": {
            "text/plain": [
              "<Figure size 640x480 with 1 Axes>"
            ],
            "image/png": "[encoded data removed]"
          },
          "metadata": {}
        }
      ]
    },
    {
      "cell_type": "code",
      "source": [
        "#accuracy calculation\n",
        "loss_and_metrics = model.evaluate(padded,train_labels,batch_size=256)\n",
        "print(\"The train accuracy is: \"+str(loss_and_metrics[1]))\n",
        "loss_and_metrics = model.evaluate(testing_padded,test_labels,batch_size=256)\n",
        "print(\"The test accuracy is: \"+str(loss_and_metrics[1]))"
      ],
      "metadata": {
        "colab": {
          "base_uri": "https://localhost:8080/"
        },
        "id": "wrL_cugEGttk",
        "outputId": "54aa550d-ba52-4864-f775-02f406448195"
      },
      "execution_count": 61,
      "outputs": [
        {
          "output_type": "stream",
          "name": "stdout",
          "text": [
            "21/21 [==============================] - 1s 34ms/step - loss: 0.1173 - accuracy: 0.9998\n",
            "The train accuracy is: 0.9998120665550232\n",
            "6/6 [==============================] - 0s 28ms/step - loss: 1.2736 - accuracy: 0.8520\n",
            "The test accuracy is: 0.8519909977912903\n"
          ]
        }
      ]
    },
    {
      "cell_type": "code",
      "source": [],
      "metadata": {
        "id": "XU7GtGRiJPT6"
      },
      "execution_count": 61,
      "outputs": []
    }
  ]
}